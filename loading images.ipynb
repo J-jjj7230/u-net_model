{
 "cells": [
  {
   "cell_type": "code",
   "execution_count": 1,
   "metadata": {},
   "outputs": [],
   "source": [
    "import numpy as np\n",
    "import os"
   ]
  },
  {
   "cell_type": "code",
   "execution_count": null,
   "metadata": {},
   "outputs": [],
   "source": [
    "IMAGE_SIZE = 64\n",
    "SEGMENTATION_TARGET_LABEL = 255\n",
    "\n",
    "# ディレクトリ内の画像を読み込む\n",
    "# inputpath: ディレクトリ文字列, imagesize: 画像サイズ, type_color: Gray\n",
    "def load_images(inputpath, imagesize, type_color):\n",
    "    imglist = []\n",
    "    exclude_prefixes = ('__', '.') \n",
    "\n",
    "    for root, dirs, files in os.walk(inputpath):\n",
    "        for fn in sorted(files):\n",
    "             dirs[:] = [dir for dir in dirs if not dir.startswith(exclude_prefixes)]\n",
    "             files[:] = [file for file in files if not file.startswith(exclude_prefixes)]\n",
    "\n",
    "        for fn in sorted(files):\n",
    "            bn, ext = os.path.splitext(fn)\n",
    "            if ext not in [\".jpg\", \".JPG\", \".jpeg\", \".JPEG\", \".png\", \".PNG\"]:\n",
    "                continue\n",
    "\n",
    "            filename = os.path.join(root, fn)\n",
    "            \n",
    "            if type_color == 'Gray':\n",
    "                # グレースケール画像の場合\n",
    "                testimage = cv2.imread(filename, cv2.IMREAD_GRAYSCALE)\n",
    "                # サイズ変更\n",
    "                height, width = testimage.shape[:2]\n",
    "                testimage = cv2.resize(testimage, (imagesize, imagesize), interpolation = cv2.INTER_AREA)  \n",
    "                # チャンネルの次元がないので1次元追加する\n",
    "                testimage = np.asarray([testimage], dtype=np.float64)\n",
    "                testimage = np.asarray(testimage, dtype=np.float64).reshape((1, imagesize, imagesize))\n",
    "                # 高さ，幅，チャンネルに入れ替え．data_format=\"channels_last\"を使うとき必要\n",
    "                testimage = testimage.transpose(1, 2, 0)\n",
    "\n",
    "            imglist.append(testimage)\n",
    "    imgsdata = np.asarray(imglist, dtype=np.float32)\n",
    "\n",
    "    return imgsdata # 画像リストとファイル名のリストを返す\n",
    "\n",
    "# 指定ディレクトリに画像リストの画像を保存する\n",
    "# savepath: ディレクトリ文字列, filenamelist: ファイル名リスト, imagelist: 画像リスト\n",
    "def save_images(savepath, filenamelist, imagelist):\n",
    "    for i, fn in enumerate(filenamelist):\n",
    "        filename = os.path.join(savepath, fn)\n",
    "        testimage = imagelist[i]\n",
    "        testimage = np.delete(testimage, 2, 1) \n",
    "        cv2.imwrite(filename, testimage)\n",
    "\n",
    "# 目的のラベル番号: orgnum のみを outnum にして，他はゼロにする関数\n",
    "def convlabelnum2desire(label, orgnum, outnum, w, h):\n",
    "    for case in range(0, len(label)):\n",
    "        for i in range(0, h):\n",
    "            for j in range(0, w):\n",
    "                if(label[case][i][j][0] != orgnum):\n",
    "                    label[case][i][j][0] = 0.0\n",
    "                else:\n",
    "                    label[case][i][j][0] = outnum"
   ]
  },
  {
   "cell_type": "code",
   "execution_count": null,
   "metadata": {},
   "outputs": [],
   "source": [
    "# データ準備\n",
    "# 画像読み込み\n",
    "# training用の原画像とラベル画像読み込み\n",
    "image_train = load_images(r'C:\\medical_image\\2d_images_png', IMAGE_SIZE, 'Gray')\n",
    "label_train = load_images(r'C:\\medical_image\\2d_masks_png', IMAGE_SIZE, 'Gray')\n",
    "# test用の原画像とラベル画像読み込み\n",
    "image_test  = load_images(r'C:\\medical_image\\2d_images_test_png', IMAGE_SIZE, 'Gray')\n",
    "label_test  = load_images(r'C:\\medical_image\\2d_masks_test_png', IMAGE_SIZE, 'Gray')\n",
    "\n",
    "# ラベル画像は指定した値 SEGMENTATION_TARGET_LABEL だけ残し他は0にする\n",
    "convlabelnum2desire(label_train, SEGMENTATION_TARGET_LABEL, 255, IMAGE_SIZE, IMAGE_SIZE)\n",
    "convlabelnum2desire(label_test, SEGMENTATION_TARGET_LABEL, 255, IMAGE_SIZE, IMAGE_SIZE)\n",
    "\n",
    "# 画素値0-1正規化\n",
    "image_train /= np.max(image_train)\n",
    "label_train /= np.max(label_train)\n",
    "image_test /= np.max(image_test)\n",
    "label_test /= np.max(label_test)"
   ]
  }
 ],
 "metadata": {
  "kernelspec": {
   "display_name": "Python 3",
   "language": "python",
   "name": "python3"
  },
  "language_info": {
   "codemirror_mode": {
    "name": "ipython",
    "version": 3
   },
   "file_extension": ".py",
   "mimetype": "text/x-python",
   "name": "python",
   "nbconvert_exporter": "python",
   "pygments_lexer": "ipython3",
   "version": "3.7.9"
  }
 },
 "nbformat": 4,
 "nbformat_minor": 4
}
